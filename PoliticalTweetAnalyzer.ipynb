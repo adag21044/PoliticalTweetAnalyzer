{
  "nbformat": 4,
  "nbformat_minor": 0,
  "metadata": {
    "colab": {
      "provenance": [],
      "authorship_tag": "ABX9TyOfkvGt4obRD5D5V1EH4ATe",
      "include_colab_link": true
    },
    "kernelspec": {
      "name": "python3",
      "display_name": "Python 3"
    },
    "language_info": {
      "name": "python"
    }
  },
  "cells": [
    {
      "cell_type": "markdown",
      "metadata": {
        "id": "view-in-github",
        "colab_type": "text"
      },
      "source": [
        "<a href=\"https://colab.research.google.com/github/adag21044/PoliticalTweetAnalyzer-/blob/main/PoliticalTweetAnalyzer.ipynb\" target=\"_parent\"><img src=\"https://colab.research.google.com/assets/colab-badge.svg\" alt=\"Open In Colab\"/></a>"
      ]
    },
    {
      "cell_type": "code",
      "execution_count": 65,
      "metadata": {
        "id": "hssQtD9tY8Mj"
      },
      "outputs": [],
      "source": [
        "import re\n",
        "import string\n",
        "import pandas as pd\n",
        "import nltk\n",
        "import random\n",
        "from nltk.corpus import stopwords\n",
        "from nltk.tokenize import word_tokenize\n",
        "from nltk.stem import WordNetLemmatizer\n",
        "from google.colab import files\n",
        "from sklearn.feature_extraction.text import TfidfVectorizer\n",
        "from sklearn.model_selection import train_test_split\n",
        "from sklearn.linear_model import LogisticRegression\n",
        "from sklearn.metrics import accuracy_score, classification_report\n",
        "import matplotlib.pyplot as plt\n",
        "import seaborn as sns\n",
        "from nltk.sentiment import SentimentIntensityAnalyzer\n",
        "from collections import Counter\n",
        "from sklearn.feature_selection import mutual_info_classif\n",
        "from gensim.models import Word2Vec\n",
        "from sklearn.metrics import accuracy_score, f1_score, precision_score, recall_score"
      ]
    },
    {
      "cell_type": "code",
      "source": [
        "# İlk kez çalıştırıyorsanız, aşağıdaki satırları açın:\n",
        "nltk.download('stopwords')\n",
        "nltk.download('punkt')\n",
        "nltk.download('wordnet')\n",
        "nltk.download('vader_lexicon')"
      ],
      "metadata": {
        "colab": {
          "base_uri": "https://localhost:8080/"
        },
        "id": "Rg987lERZAM7",
        "outputId": "187def28-29a8-4e32-c90a-aabcce8da29c"
      },
      "execution_count": 66,
      "outputs": [
        {
          "output_type": "stream",
          "name": "stderr",
          "text": [
            "[nltk_data] Downloading package stopwords to /root/nltk_data...\n",
            "[nltk_data]   Package stopwords is already up-to-date!\n",
            "[nltk_data] Downloading package punkt to /root/nltk_data...\n",
            "[nltk_data]   Package punkt is already up-to-date!\n",
            "[nltk_data] Downloading package wordnet to /root/nltk_data...\n",
            "[nltk_data]   Package wordnet is already up-to-date!\n",
            "[nltk_data] Downloading package vader_lexicon to /root/nltk_data...\n",
            "[nltk_data]   Package vader_lexicon is already up-to-date!\n"
          ]
        },
        {
          "output_type": "execute_result",
          "data": {
            "text/plain": [
              "True"
            ]
          },
          "metadata": {},
          "execution_count": 66
        }
      ]
    },
    {
      "cell_type": "code",
      "source": [
        "# Sentiment Analyzer başlat\n",
        "sia = SentimentIntensityAnalyzer()"
      ],
      "metadata": {
        "id": "OSVIT46ehuCg"
      },
      "execution_count": 67,
      "outputs": []
    },
    {
      "cell_type": "code",
      "source": [
        "def assign_label(tweet):\n",
        "    sentiment_score = sia.polarity_scores(tweet)[\"compound\"]\n",
        "    if sentiment_score > 0.2:\n",
        "        return 1  # Liberal (pozitif sentiment)\n",
        "    elif sentiment_score < -0.2:\n",
        "        return 0  # Muhafazakar (negatif sentiment)\n",
        "    else:\n",
        "        return random.choice([0, 1])  # Nötr tweetleri rastgele atama yerine, iki sınıfa da eşit dağıt"
      ],
      "metadata": {
        "id": "glw6yZCEhv33"
      },
      "execution_count": 68,
      "outputs": []
    },
    {
      "cell_type": "code",
      "source": [
        "class TweetPreprocessor:\n",
        "    def __init__(self):\n",
        "        self.stop_words = set(stopwords.words(\"english\"))\n",
        "        self.lemmatizer = WordNetLemmatizer()\n",
        "\n",
        "    def clean_tweet(self, tweet: str) -> str:\n",
        "        if not isinstance(tweet, str):\n",
        "            return \"\"\n",
        "\n",
        "        # 1. Linkleri kaldır\n",
        "        tweet = re.sub(r\"http\\S+\", \"\", tweet)\n",
        "\n",
        "        # 2. Mentions ve hashtagleri kaldır\n",
        "        tweet = re.sub(r\"@[A-Za-z0-9_]+\", \"\", tweet)\n",
        "        tweet = re.sub(r\"#[A-Za-z0-9_]+\", \"\", tweet)\n",
        "\n",
        "        # 3. Noktalama işaretlerini kaldır\n",
        "        tweet = tweet.translate(str.maketrans(\"\", \"\", string.punctuation))\n",
        "\n",
        "        # 4. Sayıları kaldır\n",
        "        tweet = re.sub(r\"\\d+\", \"\", tweet)\n",
        "\n",
        "        # 5. Kelimeleri küçük harfe çevir\n",
        "        tweet = tweet.lower()\n",
        "\n",
        "        # 6. Stopwords kaldır\n",
        "        words = word_tokenize(tweet)\n",
        "        words = [word for word in words if word not in self.stop_words]\n",
        "\n",
        "        # 7. Lemmatization uygula\n",
        "        words = [self.lemmatizer.lemmatize(word) for word in words]\n",
        "        words = [self.lemmatizer.lemmatize(word) for word in words]  # Lemmatization uygula\n",
        "\n",
        "        return \" \".join(words)"
      ],
      "metadata": {
        "id": "DFULLyfHZInj"
      },
      "execution_count": 69,
      "outputs": []
    },
    {
      "cell_type": "code",
      "source": [
        "class TweetDataset:\n",
        "    def __init__(self, file_paths):\n",
        "        self.file_paths = file_paths\n",
        "        self.data = self.load_data()\n",
        "\n",
        "    def load_data(self):\n",
        "        dataframes = []\n",
        "        for file in self.file_paths:\n",
        "            df = pd.read_csv(file)\n",
        "            print(\"Yüklenen dosyanın sütunları:\", df.columns)  # Sütunları göster\n",
        "\n",
        "            # Metin içeren en uygun sütunu bul (dtype yerine içeriğe bakarak belirle)\n",
        "            text_col = None\n",
        "            for col in df.columns:\n",
        "                if df[col].dtype == \"object\" and df[col].apply(lambda x: isinstance(x, str)).sum() > len(df) * 0.5:\n",
        "                    text_col = col\n",
        "                    break\n",
        "\n",
        "            if text_col:\n",
        "                df = df[[text_col]]\n",
        "                df.columns = [\"tweet\"]  # Standartlaştır\n",
        "                df[\"label\"] = df[\"tweet\"].apply(assign_label)\n",
        "                dataframes.append(df)\n",
        "            else:\n",
        "                print(f\"⚠️ Uygun metin sütunu bulunamadı: {file}. Lütfen tweet içeren bir CSV yükleyin!\")\n",
        "        return pd.concat(dataframes, ignore_index=True) if dataframes else pd.DataFrame()\n",
        "\n",
        "    def preprocess_tweets(self):\n",
        "        preprocessor = TweetPreprocessor()\n",
        "        if \"tweet\" in self.data.columns:\n",
        "            self.data[\"cleaned_tweet\"] = self.data[\"tweet\"].apply(preprocessor.clean_tweet)\n",
        "        return self.data\n",
        "\n",
        "    def vectorize_tweets(self):\n",
        "        if \"cleaned_tweet\" in self.data.columns:\n",
        "            vectorizer = TfidfVectorizer(max_features=5000)\n",
        "            tfidf_matrix = vectorizer.fit_transform(self.data[\"cleaned_tweet\"])\n",
        "            return tfidf_matrix, vectorizer\n",
        "        else:\n",
        "            print(\"❌ Hata: Temizlenmiş tweetler bulunamadı.\")\n",
        "            return None, None\n",
        "\n",
        "# Google Colab için Dosya Yükleme\n",
        "if __name__ == \"__main__\":\n",
        "\n",
        "    file_paths = [\"/content/generic_ballot_polls.csv\"]\n",
        "\n",
        "    dataset = TweetDataset(file_paths)\n",
        "    if dataset.data.empty:\n",
        "        print(\"❌ Hata: Geçerli bir metin sütunu içermeyen bir CSV yüklendi. Lütfen içinde tweet olan bir veri seti yükleyin!\")\n",
        "    else:\n",
        "        processed_data = dataset.preprocess_tweets()\n",
        "        print(\"İlk 5 temizlenmiş tweet:\")\n",
        "        print(processed_data.head())\n",
        "\n",
        "        print(\"\\nVeri dağılımı:\")\n",
        "        print(dataset.data[\"label\"].value_counts())\n",
        "        sns.countplot(x=dataset.data[\"label\"], palette=\"coolwarm\")\n",
        "        plt.title(\"Veri Seti Dağılımı\")\n",
        "        plt.show()\n",
        "\n",
        "\n",
        "        print(\"\\nTF-IDF vektörleştirme uygulanıyor...\")\n",
        "        tfidf_matrix, vectorizer = dataset.vectorize_tweets()\n",
        "        if tfidf_matrix is not None:\n",
        "            print(f\"TF-IDF matris boyutu: {tfidf_matrix.shape}\")\n",
        "\n",
        "            dataset.data[\"label\"] = dataset.data[\"label\"].round().astype(int)\n",
        "\n",
        "\n",
        "            # Mutual Information ile en önemli kelimeleri belirleme\n",
        "            mi_scores = mutual_info_classif(tfidf_matrix, dataset.data[\"label\"].astype(int), discrete_features=True)\n",
        "            top_features = sorted(zip(vectorizer.get_feature_names_out(), mi_scores), key=lambda x: x[1], reverse=True)[:10]\n",
        "            print(\"En önemli kelimeler:\", top_features)\n",
        "\n",
        "            # Word2Vec eğitme\n",
        "            sentences = [tweet.split() for tweet in dataset.data[\"cleaned_tweet\"]]\n",
        "            w2v_model = Word2Vec(sentences, vector_size=100, window=5, min_count=2, workers=4)\n",
        "            print(\"Word2Vec Modeli Eğitildi!\")\n",
        "\n",
        "\n"
      ],
      "metadata": {
        "colab": {
          "base_uri": "https://localhost:8080/",
          "height": 1000
        },
        "id": "iF2o465YZJ8D",
        "outputId": "93539533-649b-4b6b-8cb0-a916d21ef459"
      },
      "execution_count": 70,
      "outputs": [
        {
          "output_type": "stream",
          "name": "stdout",
          "text": [
            "Yüklenen dosyanın sütunları: Index(['poll_id', 'pollster_id', 'pollster', 'sponsor_ids', 'sponsors',\n",
            "       'display_name', 'pollster_rating_id', 'pollster_rating_name',\n",
            "       'numeric_grade', 'pollscore', 'methodology', 'transparency_score',\n",
            "       'state', 'start_date', 'end_date', 'sponsor_candidate_id',\n",
            "       'sponsor_candidate', 'sponsor_candidate_party', 'question_id',\n",
            "       'sample_size', 'population', 'subpopulation', 'population_full',\n",
            "       'tracking', 'created_at', 'notes', 'url', 'source', 'internal',\n",
            "       'partisan', 'race_id', 'cycle', 'office_type', 'seat_number',\n",
            "       'seat_name', 'election_date', 'stage', 'nationwide_batch', 'dem', 'rep',\n",
            "       'ind'],\n",
            "      dtype='object')\n",
            "İlk 5 temizlenmiş tweet:\n",
            "      tweet  label cleaned_tweet\n",
            "0   Emerson      1       emerson\n",
            "1    YouGov      1        yougov\n",
            "2  Monmouth      0      monmouth\n",
            "3    Cygnal      1        cygnal\n",
            "4    YouGov      0        yougov\n",
            "\n",
            "Veri dağılımı:\n",
            "label\n",
            "1    313\n",
            "0    303\n",
            "Name: count, dtype: int64\n"
          ]
        },
        {
          "output_type": "stream",
          "name": "stderr",
          "text": [
            "<ipython-input-70-05677ec48833>:58: FutureWarning: \n",
            "\n",
            "Passing `palette` without assigning `hue` is deprecated and will be removed in v0.14.0. Assign the `x` variable to `hue` and set `legend=False` for the same effect.\n",
            "\n",
            "  sns.countplot(x=dataset.data[\"label\"], palette=\"coolwarm\")\n"
          ]
        },
        {
          "output_type": "display_data",
          "data": {
            "text/plain": [
              "<Figure size 640x480 with 1 Axes>"
            ],
            "image/png": "[encoded data removed]"
          },
          "metadata": {}
        },
        {
          "output_type": "stream",
          "name": "stderr",
          "text": [
            "/usr/local/lib/python3.11/dist-packages/sklearn/metrics/cluster/_supervised.py:59: UserWarning: Clustering metrics expects discrete values but received continuous values for label, and binary values for target\n",
            "  warnings.warn(msg, UserWarning)\n",
            "/usr/local/lib/python3.11/dist-packages/sklearn/metrics/cluster/_supervised.py:59: UserWarning: Clustering metrics expects discrete values but received continuous values for label, and binary values for target\n",
            "  warnings.warn(msg, UserWarning)\n",
            "/usr/local/lib/python3.11/dist-packages/sklearn/metrics/cluster/_supervised.py:59: UserWarning: Clustering metrics expects discrete values but received continuous values for label, and binary values for target\n",
            "  warnings.warn(msg, UserWarning)\n",
            "/usr/local/lib/python3.11/dist-packages/sklearn/metrics/cluster/_supervised.py:59: UserWarning: Clustering metrics expects discrete values but received continuous values for label, and binary values for target\n",
            "  warnings.warn(msg, UserWarning)\n",
            "/usr/local/lib/python3.11/dist-packages/sklearn/metrics/cluster/_supervised.py:59: UserWarning: Clustering metrics expects discrete values but received continuous values for label, and binary values for target\n",
            "  warnings.warn(msg, UserWarning)\n",
            "/usr/local/lib/python3.11/dist-packages/sklearn/metrics/cluster/_supervised.py:59: UserWarning: Clustering metrics expects discrete values but received continuous values for label, and binary values for target\n",
            "  warnings.warn(msg, UserWarning)\n",
            "/usr/local/lib/python3.11/dist-packages/sklearn/metrics/cluster/_supervised.py:59: UserWarning: Clustering metrics expects discrete values but received continuous values for label, and binary values for target\n",
            "  warnings.warn(msg, UserWarning)\n",
            "/usr/local/lib/python3.11/dist-packages/sklearn/metrics/cluster/_supervised.py:59: UserWarning: Clustering metrics expects discrete values but received continuous values for label, and binary values for target\n",
            "  warnings.warn(msg, UserWarning)\n",
            "/usr/local/lib/python3.11/dist-packages/sklearn/metrics/cluster/_supervised.py:59: UserWarning: Clustering metrics expects discrete values but received continuous values for label, and binary values for target\n",
            "  warnings.warn(msg, UserWarning)\n",
            "/usr/local/lib/python3.11/dist-packages/sklearn/metrics/cluster/_supervised.py:59: UserWarning: Clustering metrics expects discrete values but received continuous values for label, and binary values for target\n",
            "  warnings.warn(msg, UserWarning)\n",
            "/usr/local/lib/python3.11/dist-packages/sklearn/metrics/cluster/_supervised.py:59: UserWarning: Clustering metrics expects discrete values but received continuous values for label, and binary values for target\n",
            "  warnings.warn(msg, UserWarning)\n",
            "/usr/local/lib/python3.11/dist-packages/sklearn/metrics/cluster/_supervised.py:59: UserWarning: Clustering metrics expects discrete values but received continuous values for label, and binary values for target\n",
            "  warnings.warn(msg, UserWarning)\n",
            "/usr/local/lib/python3.11/dist-packages/sklearn/metrics/cluster/_supervised.py:59: UserWarning: Clustering metrics expects discrete values but received continuous values for label, and binary values for target\n",
            "  warnings.warn(msg, UserWarning)\n",
            "/usr/local/lib/python3.11/dist-packages/sklearn/metrics/cluster/_supervised.py:59: UserWarning: Clustering metrics expects discrete values but received continuous values for label, and binary values for target\n",
            "  warnings.warn(msg, UserWarning)\n",
            "/usr/local/lib/python3.11/dist-packages/sklearn/metrics/cluster/_supervised.py:59: UserWarning: Clustering metrics expects discrete values but received continuous values for label, and binary values for target\n",
            "  warnings.warn(msg, UserWarning)\n",
            "/usr/local/lib/python3.11/dist-packages/sklearn/metrics/cluster/_supervised.py:59: UserWarning: Clustering metrics expects discrete values but received continuous values for label, and binary values for target\n",
            "  warnings.warn(msg, UserWarning)\n",
            "/usr/local/lib/python3.11/dist-packages/sklearn/metrics/cluster/_supervised.py:59: UserWarning: Clustering metrics expects discrete values but received continuous values for label, and binary values for target\n",
            "  warnings.warn(msg, UserWarning)\n",
            "/usr/local/lib/python3.11/dist-packages/sklearn/metrics/cluster/_supervised.py:59: UserWarning: Clustering metrics expects discrete values but received continuous values for label, and binary values for target\n",
            "  warnings.warn(msg, UserWarning)\n",
            "/usr/local/lib/python3.11/dist-packages/sklearn/metrics/cluster/_supervised.py:59: UserWarning: Clustering metrics expects discrete values but received continuous values for label, and binary values for target\n",
            "  warnings.warn(msg, UserWarning)\n",
            "/usr/local/lib/python3.11/dist-packages/sklearn/metrics/cluster/_supervised.py:59: UserWarning: Clustering metrics expects discrete values but received continuous values for label, and binary values for target\n",
            "  warnings.warn(msg, UserWarning)\n",
            "/usr/local/lib/python3.11/dist-packages/sklearn/metrics/cluster/_supervised.py:59: UserWarning: Clustering metrics expects discrete values but received continuous values for label, and binary values for target\n",
            "  warnings.warn(msg, UserWarning)\n",
            "/usr/local/lib/python3.11/dist-packages/sklearn/metrics/cluster/_supervised.py:59: UserWarning: Clustering metrics expects discrete values but received continuous values for label, and binary values for target\n",
            "  warnings.warn(msg, UserWarning)\n"
          ]
        },
        {
          "output_type": "stream",
          "name": "stdout",
          "text": [
            "\n",
            "TF-IDF vektörleştirme uygulanıyor...\n",
            "TF-IDF matris boyutu: (616, 71)\n",
            "En önemli kelimeler: [('clarity', 0.015643144911501275), ('insight', 0.010211191634396134), ('noble', 0.009996714207720858), ('predictive', 0.009996714207720858), ('wpai', 0.0046291574895787405), ('poll', 0.003957375300926977), ('harrisxharris', 0.0034677372325840894), ('bullfinch', 0.003384401600413915), ('progress', 0.003308826927324652), ('data', 0.0027183860092908872)]\n",
            "Word2Vec Modeli Eğitildi!\n"
          ]
        },
        {
          "output_type": "stream",
          "name": "stderr",
          "text": [
            "/usr/local/lib/python3.11/dist-packages/sklearn/metrics/cluster/_supervised.py:59: UserWarning: Clustering metrics expects discrete values but received continuous values for label, and binary values for target\n",
            "  warnings.warn(msg, UserWarning)\n",
            "/usr/local/lib/python3.11/dist-packages/sklearn/metrics/cluster/_supervised.py:59: UserWarning: Clustering metrics expects discrete values but received continuous values for label, and binary values for target\n",
            "  warnings.warn(msg, UserWarning)\n",
            "/usr/local/lib/python3.11/dist-packages/sklearn/metrics/cluster/_supervised.py:59: UserWarning: Clustering metrics expects discrete values but received continuous values for label, and binary values for target\n",
            "  warnings.warn(msg, UserWarning)\n",
            "/usr/local/lib/python3.11/dist-packages/sklearn/metrics/cluster/_supervised.py:59: UserWarning: Clustering metrics expects discrete values but received continuous values for label, and binary values for target\n",
            "  warnings.warn(msg, UserWarning)\n",
            "/usr/local/lib/python3.11/dist-packages/sklearn/metrics/cluster/_supervised.py:59: UserWarning: Clustering metrics expects discrete values but received continuous values for label, and binary values for target\n",
            "  warnings.warn(msg, UserWarning)\n",
            "/usr/local/lib/python3.11/dist-packages/sklearn/metrics/cluster/_supervised.py:59: UserWarning: Clustering metrics expects discrete values but received continuous values for label, and binary values for target\n",
            "  warnings.warn(msg, UserWarning)\n",
            "/usr/local/lib/python3.11/dist-packages/sklearn/metrics/cluster/_supervised.py:59: UserWarning: Clustering metrics expects discrete values but received continuous values for label, and binary values for target\n",
            "  warnings.warn(msg, UserWarning)\n",
            "/usr/local/lib/python3.11/dist-packages/sklearn/metrics/cluster/_supervised.py:59: UserWarning: Clustering metrics expects discrete values but received continuous values for label, and binary values for target\n",
            "  warnings.warn(msg, UserWarning)\n",
            "/usr/local/lib/python3.11/dist-packages/sklearn/metrics/cluster/_supervised.py:59: UserWarning: Clustering metrics expects discrete values but received continuous values for label, and binary values for target\n",
            "  warnings.warn(msg, UserWarning)\n",
            "/usr/local/lib/python3.11/dist-packages/sklearn/metrics/cluster/_supervised.py:59: UserWarning: Clustering metrics expects discrete values but received continuous values for label, and binary values for target\n",
            "  warnings.warn(msg, UserWarning)\n",
            "/usr/local/lib/python3.11/dist-packages/sklearn/metrics/cluster/_supervised.py:59: UserWarning: Clustering metrics expects discrete values but received continuous values for label, and binary values for target\n",
            "  warnings.warn(msg, UserWarning)\n",
            "/usr/local/lib/python3.11/dist-packages/sklearn/metrics/cluster/_supervised.py:59: UserWarning: Clustering metrics expects discrete values but received continuous values for label, and binary values for target\n",
            "  warnings.warn(msg, UserWarning)\n",
            "/usr/local/lib/python3.11/dist-packages/sklearn/metrics/cluster/_supervised.py:59: UserWarning: Clustering metrics expects discrete values but received continuous values for label, and binary values for target\n",
            "  warnings.warn(msg, UserWarning)\n",
            "/usr/local/lib/python3.11/dist-packages/sklearn/metrics/cluster/_supervised.py:59: UserWarning: Clustering metrics expects discrete values but received continuous values for label, and binary values for target\n",
            "  warnings.warn(msg, UserWarning)\n",
            "/usr/local/lib/python3.11/dist-packages/sklearn/metrics/cluster/_supervised.py:59: UserWarning: Clustering metrics expects discrete values but received continuous values for label, and binary values for target\n",
            "  warnings.warn(msg, UserWarning)\n",
            "/usr/local/lib/python3.11/dist-packages/sklearn/metrics/cluster/_supervised.py:59: UserWarning: Clustering metrics expects discrete values but received continuous values for label, and binary values for target\n",
            "  warnings.warn(msg, UserWarning)\n",
            "/usr/local/lib/python3.11/dist-packages/sklearn/metrics/cluster/_supervised.py:59: UserWarning: Clustering metrics expects discrete values but received continuous values for label, and binary values for target\n",
            "  warnings.warn(msg, UserWarning)\n",
            "/usr/local/lib/python3.11/dist-packages/sklearn/metrics/cluster/_supervised.py:59: UserWarning: Clustering metrics expects discrete values but received continuous values for label, and binary values for target\n",
            "  warnings.warn(msg, UserWarning)\n",
            "/usr/local/lib/python3.11/dist-packages/sklearn/metrics/cluster/_supervised.py:59: UserWarning: Clustering metrics expects discrete values but received continuous values for label, and binary values for target\n",
            "  warnings.warn(msg, UserWarning)\n",
            "/usr/local/lib/python3.11/dist-packages/sklearn/metrics/cluster/_supervised.py:59: UserWarning: Clustering metrics expects discrete values but received continuous values for label, and binary values for target\n",
            "  warnings.warn(msg, UserWarning)\n",
            "/usr/local/lib/python3.11/dist-packages/sklearn/metrics/cluster/_supervised.py:59: UserWarning: Clustering metrics expects discrete values but received continuous values for label, and binary values for target\n",
            "  warnings.warn(msg, UserWarning)\n",
            "/usr/local/lib/python3.11/dist-packages/sklearn/metrics/cluster/_supervised.py:59: UserWarning: Clustering metrics expects discrete values but received continuous values for label, and binary values for target\n",
            "  warnings.warn(msg, UserWarning)\n",
            "/usr/local/lib/python3.11/dist-packages/sklearn/metrics/cluster/_supervised.py:59: UserWarning: Clustering metrics expects discrete values but received continuous values for label, and binary values for target\n",
            "  warnings.warn(msg, UserWarning)\n",
            "/usr/local/lib/python3.11/dist-packages/sklearn/metrics/cluster/_supervised.py:59: UserWarning: Clustering metrics expects discrete values but received continuous values for label, and binary values for target\n",
            "  warnings.warn(msg, UserWarning)\n",
            "/usr/local/lib/python3.11/dist-packages/sklearn/metrics/cluster/_supervised.py:59: UserWarning: Clustering metrics expects discrete values but received continuous values for label, and binary values for target\n",
            "  warnings.warn(msg, UserWarning)\n",
            "/usr/local/lib/python3.11/dist-packages/sklearn/metrics/cluster/_supervised.py:59: UserWarning: Clustering metrics expects discrete values but received continuous values for label, and binary values for target\n",
            "  warnings.warn(msg, UserWarning)\n",
            "/usr/local/lib/python3.11/dist-packages/sklearn/metrics/cluster/_supervised.py:59: UserWarning: Clustering metrics expects discrete values but received continuous values for label, and binary values for target\n",
            "  warnings.warn(msg, UserWarning)\n",
            "/usr/local/lib/python3.11/dist-packages/sklearn/metrics/cluster/_supervised.py:59: UserWarning: Clustering metrics expects discrete values but received continuous values for label, and binary values for target\n",
            "  warnings.warn(msg, UserWarning)\n"
          ]
        }
      ]
    }
  ]
}